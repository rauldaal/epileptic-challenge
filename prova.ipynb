{
 "cells": [
  {
   "cell_type": "code",
   "execution_count": 17,
   "metadata": {},
   "outputs": [],
   "source": [
    "def __format_filename(string):\n",
    "    sufix = string[3:]\n",
    "    if sufix.isdigit():\n",
    "        return string\n",
    "    else:\n",
    "        indice = 0\n",
    "        while indice < len(sufix) and sufix[indice].isdigit():\n",
    "            indice += 1\n",
    "        print(indice)\n",
    "        return string[:3] + sufix[:indice]"
   ]
  },
  {
   "cell_type": "code",
   "execution_count": 11,
   "metadata": {},
   "outputs": [
    {
     "name": "stdout",
     "output_type": "stream",
     "text": [
      "571905\n",
      "396285\n",
      "ENCONTRADO\n",
      "class                  0\n",
      "filename_interval      1\n",
      "global_interval        1\n",
      "filename             chb\n",
      "window_id              0\n",
      "Name: 0, dtype: object\n"
     ]
    }
   ],
   "source": [
    "import os\n",
    "import pandas as pd\n",
    "\n",
    "\n",
    "path = \"C:/Users/Raul/OneDrive - UAB/4t/MA PSIV/RETO EPILIEPSIA/metadata\"\n",
    "\n",
    "data = None\n",
    "\n",
    "parquet_files = os.listdir(path)\n",
    "for parquet in parquet_files:\n",
    "    df = pd.read_parquet(os.path.join(path, parquet))\n",
    "    df['window_id'] = df.index\n",
    "    df['filename'] = df['filename'].apply(lambda x: __format_filename(x.split(\"_\")[0]))\n",
    "    if data is None:\n",
    "        data = df\n",
    "    else:\n",
    "        data = pd.concat([data, df])\n",
    "\n",
    "print(len(data))\n",
    "\n",
    "for idx in range(len(data)):\n",
    "    row = data.iloc[idx]\n",
    "    id, window_id, cls = row['filename'], row['window_id'], row['class']\n",
    "    if id == \"chb\" or window_id == \"chb\":\n",
    "        print(idx)\n",
    "        print(\"ENCONTRADO\")\n",
    "        print(row)\n",
    "        break"
   ]
  },
  {
   "cell_type": "code",
   "execution_count": 18,
   "metadata": {},
   "outputs": [
    {
     "name": "stdout",
     "output_type": "stream",
     "text": [
      "2\n"
     ]
    },
    {
     "data": {
      "text/plain": [
       "'chb17'"
      ]
     },
     "execution_count": 18,
     "metadata": {},
     "output_type": "execute_result"
    }
   ],
   "source": [
    "__format_filename(\"chb17a\")"
   ]
  },
  {
   "cell_type": "code",
   "execution_count": 13,
   "metadata": {},
   "outputs": [
    {
     "data": {
      "text/plain": [
       "array(['chb01', 'chb02', 'chb03', 'chb04', 'chb05', 'chb06', 'chb07',\n",
       "       'chb08', 'chb09', 'chb10', 'chb11', 'chb12', 'chb13', 'chb14',\n",
       "       'chb15', 'chb16', 'chb', 'chb18', 'chb19', 'chb20', 'chb21',\n",
       "       'chb22', 'chb23', 'chb24'], dtype=object)"
      ]
     },
     "execution_count": 13,
     "metadata": {},
     "output_type": "execute_result"
    }
   ],
   "source": [
    "data['filename'].unique()"
   ]
  }
 ],
 "metadata": {
  "kernelspec": {
   "display_name": "venv",
   "language": "python",
   "name": "python3"
  },
  "language_info": {
   "codemirror_mode": {
    "name": "ipython",
    "version": 3
   },
   "file_extension": ".py",
   "mimetype": "text/x-python",
   "name": "python",
   "nbconvert_exporter": "python",
   "pygments_lexer": "ipython3",
   "version": "3.10.6"
  }
 },
 "nbformat": 4,
 "nbformat_minor": 2
}
